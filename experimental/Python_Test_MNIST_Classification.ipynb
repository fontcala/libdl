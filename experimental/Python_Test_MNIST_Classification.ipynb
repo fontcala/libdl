{
 "cells": [
  {
   "cell_type": "markdown",
   "metadata": {},
   "source": [
    "# TEST#\n"
   ]
  },
  {
   "cell_type": "code",
   "execution_count": null,
   "metadata": {},
   "outputs": [],
   "source": []
  },
  {
   "cell_type": "code",
   "execution_count": 1,
   "metadata": {
    "scrolled": true
   },
   "outputs": [
    {
     "name": "stdout",
     "output_type": "stream",
     "text": [
      "3.6.9\n",
      "['/home/adria/anaconda3/lib/python36.zip', '/home/adria/anaconda3/lib/python3.6', '/home/adria/anaconda3/lib/python3.6/lib-dynload', '', '/home/adria/.local/lib/python3.6/site-packages', '/home/adria/anaconda3/lib/python3.6/site-packages', '/home/adria/anaconda3/lib/python3.6/site-packages/IPython/extensions', '/home/adria/.ipython', '/home/adria/Documents/GITHUB/libdl/experimental/../build/experimental']\n"
     ]
    }
   ],
   "source": [
    "from platform import python_version\n",
    "print(python_version()) # tested with 3.7.1\n",
    "# this adds the python wrapper module directory to the path.\n",
    "import os\n",
    "import sys\n",
    "import numpy as np\n",
    "import importlib\n",
    "bindingspath = os.getcwd() + '/../build/experimental'\n",
    "sys.path.append(bindingspath)\n",
    "print(sys.path)"
   ]
  },
  {
   "cell_type": "code",
   "execution_count": 2,
   "metadata": {
    "scrolled": true
   },
   "outputs": [],
   "source": [
    "# The library wrapper\n",
    "import pybindings_experimental as pyb"
   ]
  },
  {
   "cell_type": "code",
   "execution_count": 3,
   "metadata": {},
   "outputs": [],
   "source": [
    "# Load Mnist\n",
    "from sklearn.datasets import fetch_openml\n",
    "from sklearn.model_selection import train_test_split\n",
    "mnist = fetch_openml('mnist_784', version=1, cache=True)\n",
    "trX, teX, trY, teY = train_test_split(mnist.data / 255.0, mnist.target.astype(\"int0\"), test_size = 0.33)\n",
    "\n",
    "# Data vectors are expected in columns\n",
    "trX = trX.transpose();\n",
    "teX = teX.transpose();"
   ]
  },
  {
   "cell_type": "code",
   "execution_count": 4,
   "metadata": {},
   "outputs": [],
   "source": [
    "# Do one-hot encoding  of the labels\n",
    "from sklearn.preprocessing import OneHotEncoder\n",
    "enc = OneHotEncoder(categories='auto')\n",
    "enc.fit(trY.reshape(-1, 1))\n",
    "\n",
    "trLabelsOneHot = enc.transform(trY.reshape(-1, 1)).toarray()\n",
    "teLabelsOneHot = enc.transform(teY.reshape(-1, 1)).toarray()"
   ]
  },
  {
   "cell_type": "code",
   "execution_count": 5,
   "metadata": {},
   "outputs": [
    {
     "name": "stdout",
     "output_type": "stream",
     "text": [
      "Values per Image: 784\n",
      "Number of images for training: 46900\n",
      "Number of images for testing: 23100\n",
      "--- ---\n",
      "Training Labels: 46900\n",
      "Training Labels: 10\n"
     ]
    }
   ],
   "source": [
    "# dataset properties\n",
    "print(\"Values per Image:\", trX.shape[0])\n",
    "print(\"Number of images for training:\", trX.shape[1])\n",
    "print(\"Number of images for testing:\", teX.shape[1])\n",
    "print(\"--- ---\")\n",
    "print(\"Training Labels:\", trLabelsOneHot.shape[0])\n",
    "print(\"Training Labels:\", trLabelsOneHot.shape[1])"
   ]
  },
  {
   "cell_type": "code",
   "execution_count": 6,
   "metadata": {},
   "outputs": [
    {
     "name": "stdout",
     "output_type": "stream",
     "text": [
      "Values per Image: 784\n",
      "Number of images for training: 2469\n",
      "Number of images for testing: 1231\n",
      "--- ---\n",
      "Training Labels: 2469\n",
      "Training Labels: 10\n"
     ]
    }
   ],
   "source": [
    "#subsample if necessary\n",
    "trainSampleSize = 2469;\n",
    "trXSub = trX[:,0:trainSampleSize]\n",
    "trLabelsOneHotSub = trLabelsOneHot[0:trainSampleSize,:]\n",
    "testSampleSize = 1231;\n",
    "teXSub = teX[:,0:testSampleSize]\n",
    "teLabelsOneHotSub = teLabelsOneHot[0:testSampleSize,:]\n",
    "print(\"Values per Image:\", trXSub.shape[0])\n",
    "print(\"Number of images for training:\", trXSub.shape[1])\n",
    "print(\"Number of images for testing:\", teXSub.shape[1])\n",
    "print(\"--- ---\")\n",
    "print(\"Training Labels:\", trLabelsOneHotSub.shape[0])\n",
    "print(\"Training Labels:\", trLabelsOneHotSub.shape[1])"
   ]
  },
  {
   "cell_type": "code",
   "execution_count": 7,
   "metadata": {},
   "outputs": [],
   "source": [
    "# Set parameters of a given architecture example\n",
    "#exampleModelBP = pyb.CNNClassificationAMM(5,3,1,1,6,8,28,28,1,1,10)\n",
    "#exampleModelBP.setTrainInputs(trXSub,1,28,28)\n",
    "#exampleModelBP.setTrainLabels(trLabelsOneHotSub,10)\n",
    "#exampleModelBP.setTestInputs(teXSub);\n",
    "#exampleModelBP.setTestLabels(teLabelsOneHotSub)\n",
    "#exampleModelBP.setLearningRate(0.00005)\n",
    "#exampleModelBP.setApproximationRatios(0.6,0.6,0.6,0.6)\n",
    "#exampleModelBP.train(6)\n",
    "#exampleModelBP.setApproximationRatios(0.6,0.6,0.6,0.6)\n",
    "#exampleModelBP.train(6)\n",
    "#exampleModelBP.setApproximationRatios(1.0,1.0,1.0,1.0)\n",
    "#testResults = exampleModelBP.test()"
   ]
  },
  {
   "cell_type": "code",
   "execution_count": 8,
   "metadata": {},
   "outputs": [],
   "source": [
    "# Set parameters of a given architecture example\n",
    "# exampleModelBP = pyb.CNNClassificationBaseline(5,3,1,1,6,8,28,28,1,1,10)\n",
    "# exampleModelBP.setTrainInputs(trXSub,1,28,28)\n",
    "# exampleModelBP.setTrainLabels(trLabelsOneHotSub,10)\n",
    "# exampleModelBP.setTestInputs(teXSub);\n",
    "# exampleModelBP.setTestLabels(teLabelsOneHotSub)\n",
    "# exampleModelBP.setLearningRate(0.0001)\n",
    "# exampleModelBP.train(6)\n",
    "# exampleModelBP.train(6)\n",
    "# testResults = exampleModelBP.test()"
   ]
  },
  {
   "cell_type": "code",
   "execution_count": 9,
   "metadata": {},
   "outputs": [],
   "source": [
    "# Set parameters of a given architecture example\n",
    "#exampleModelFA = pyb.CNNClassificationFA(5,3,1,1,6,8,28,28,1,1,10)\n",
    "#exampleModelFA.setTrainInputs(trXSub,1,28,28)\n",
    "#exampleModelFA.setTrainLabels(trLabelsOneHotSub,10)\n",
    "#exampleModelFA.setTestInputs(teXSub);\n",
    "#exampleModelFA.setTestLabels(teLabelsOneHotSub)\n",
    "#exampleModelFA.setLearningRate(0.0001)\n",
    "#exampleModelFA.train(6)\n",
    "#exampleModelFA.train(6)\n",
    "#testResults = exampleModelFA.test()"
   ]
  },
  {
   "cell_type": "code",
   "execution_count": null,
   "metadata": {},
   "outputs": [
    {
     "name": "stdout",
     "output_type": "stream",
     "text": [
      "start new epoch\n",
      "trainingLoss[0]=2.93052\n"
     ]
    }
   ],
   "source": [
    "# Set parameters of a given architecture example\n",
    "# exampleModelDFA = pyb.MLPBackpropagation(784,382,382,28,28,10)\n",
    "exampleModelDFA = pyb.MLPDirectFeedbackAlignment(784,382,382,28,28,10)\n",
    "exampleModelDFA.setTrainInputs(trXSub,1,28,28)\n",
    "exampleModelDFA.setTrainLabels(trLabelsOneHotSub,10)\n",
    "exampleModelDFA.setTestInputs(teXSub);\n",
    "exampleModelDFA.setTestLabels(teLabelsOneHotSub)\n",
    "exampleModelDFA.setLearningRate(0.00001)\n",
    "exampleModelDFA.train(6)\n",
    "exampleModelDFA.train(6)\n",
    "testResults = exampleModelDFA.test()"
   ]
  }
 ],
 "metadata": {
  "kernelspec": {
   "display_name": "Python 3",
   "language": "python",
   "name": "python3"
  },
  "language_info": {
   "codemirror_mode": {
    "name": "ipython",
    "version": 3
   },
   "file_extension": ".py",
   "mimetype": "text/x-python",
   "name": "python",
   "nbconvert_exporter": "python",
   "pygments_lexer": "ipython3",
   "version": "3.6.9"
  }
 },
 "nbformat": 4,
 "nbformat_minor": 2
}

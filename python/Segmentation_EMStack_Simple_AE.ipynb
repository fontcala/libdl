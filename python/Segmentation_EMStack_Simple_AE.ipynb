{
 "cells": [
  {
   "cell_type": "code",
   "execution_count": 1,
   "metadata": {
    "scrolled": true
   },
   "outputs": [
    {
     "name": "stdout",
     "output_type": "stream",
     "text": [
      "3.7.3\n",
      "['/home/adria/Documents/Documents/TUM/dlfs/libdl/python', '/home/adria/anaconda3/lib/python37.zip', '/home/adria/anaconda3/lib/python3.7', '/home/adria/anaconda3/lib/python3.7/lib-dynload', '', '/home/adria/anaconda3/lib/python3.7/site-packages', '/home/adria/anaconda3/lib/python3.7/site-packages/IPython/extensions', '/home/adria/.ipython', '/home/adria/Documents/Documents/TUM/dlfs/libdl/python/../build/python']\n"
     ]
    }
   ],
   "source": [
    "from platform import python_version\n",
    "print(python_version()) # tested with 3.7.1\n",
    "# this adds the python wrapper module directory to the path.\n",
    "import os\n",
    "import sys\n",
    "import numpy as np\n",
    "import importlib\n",
    "bindingspath = os.getcwd() + '/../build/python'\n",
    "sys.path.append(bindingspath)\n",
    "print(sys.path)"
   ]
  },
  {
   "cell_type": "code",
   "execution_count": 2,
   "metadata": {
    "scrolled": true
   },
   "outputs": [],
   "source": [
    "# The library wrapper\n",
    "import pybindings as pyb"
   ]
  },
  {
   "cell_type": "code",
   "execution_count": 3,
   "metadata": {},
   "outputs": [],
   "source": [
    "from matplotlib import pyplot as plt\n",
    "from sklearn.preprocessing import OneHotEncoder\n",
    "from skimage import io\n",
    "imTrain = io.imread(os.getcwd() + '/data/train-volume.tif')\n",
    "NumImages = 30;\n",
    "ImageDim = 512 * 512\n",
    "imsTrain = np.reshape(imTrain, (NumImages, ImageDim)).transpose() \n",
    "imsTrain = imsTrain.astype(np.double)/255\n",
    "\n",
    "lbTrain = io.imread(os.getcwd() + '/data/train-labels.tif')\n",
    "lbsTrain = np.reshape(lbTrain, (NumImages, ImageDim)).transpose()\n",
    "enc = OneHotEncoder(categories='auto')\n",
    "enc.fit(lbsTrain.reshape(-1, 1))\n",
    "lbsTrainOneHot = np.zeros((ImageDim,NumImages * 2))\n",
    "for idx in range(0,NumImages):\n",
    "    lbsTrainOneHot[:,2*idx:(2*idx +2)] = enc.transform(lbsTrain[:,idx].reshape(-1, 1)).toarray()\n",
    "idx = 0\n",
    "someIm0 = imsTrain[:,0];\n",
    "someLb0 = lbsTrain[:,0];\n",
    "someIm1 = imsTrain[:,1];\n",
    "someLb1 = lbsTrain[:,1];"
   ]
  },
  {
   "cell_type": "code",
   "execution_count": 4,
   "metadata": {},
   "outputs": [
    {
     "name": "stdout",
     "output_type": "stream",
     "text": [
      "Values per Image: 262144\n",
      "Number of images for training: 30\n",
      "Values per  Label Image: 262144\n",
      "Number of images for Label training: 60\n"
     ]
    }
   ],
   "source": [
    "print(\"Values per Image:\", imsTrain.shape[0])\n",
    "print(\"Number of images for training:\", imsTrain.shape[1])\n",
    "\n",
    "print(\"Values per  Label Image:\", lbsTrainOneHot.shape[0])\n",
    "print(\"Number of images for Label training:\", lbsTrainOneHot.shape[1])\n",
    "plt.ion()\n",
    "inputVar = 30 # change to visualize\n",
    "while inputVar < 30:\n",
    "    f = plt.figure(figsize=(20,5))\n",
    "    f.suptitle('Original image and One Hot Labels', fontsize=16)\n",
    "    plt.subplot(131)\n",
    "    plt.imshow(np.reshape(imsTrain[:,inputVar],(512,512)), interpolation='nearest', cmap='gray')\n",
    "    plt.subplot(132)\n",
    "    plt.imshow(np.reshape(lbsTrainOneHot[:,2 * inputVar],(512,512)), interpolation='nearest', cmap='gray')\n",
    "    plt.subplot(133)\n",
    "    plt.imshow(np.reshape(lbsTrainOneHot[:,2 * inputVar + 1],(512,512)), interpolation='nearest', cmap='gray')\n",
    "    plt.show()\n",
    "    inputVar = int(input(\"Next Index? (Press 30 or larger escape).\"))# wait for input from the user"
   ]
  },
  {
   "cell_type": "code",
   "execution_count": 17,
   "metadata": {},
   "outputs": [
    {
     "name": "stdout",
     "output_type": "stream",
     "text": [
      "Conv In Depth: 1 In Height: 512 In Width: 512 Out Depth: 4 Out Height: 510 Out Width: 510\n",
      "Conv In Depth: 4 In Height: 510 In Width: 510 Out Depth: 8 Out Height: 508 Out Width: 508\n",
      "Tran In Depth: 8 In Height: 508 In Width: 508 Out Depth: 4 Out Height: 510 Out Width: 510\n",
      "Tran In Depth: 4 In Height: 510 In Width: 510 Out Depth: 2 Out Height: 512 Out Width: 512\n"
     ]
    }
   ],
   "source": [
    "labelDepth = 2\n",
    "aFirstDepth = 4\n",
    "aSecondDepth = 8\n",
    "segSimple = pyb.SegmentationExample7(512,512,1,aFirstDepth,aSecondDepth,labelDepth)"
   ]
  },
  {
   "cell_type": "code",
   "execution_count": 21,
   "metadata": {},
   "outputs": [
    {
     "name": "stdout",
     "output_type": "stream",
     "text": [
      "GetLoss(): +++++++++++++++++++++++++++++++++++++++++++++++++++\n",
      "0.534894\n",
      "GetLoss(): +++++++++++++++++++++++++++++++++++++++++++++++++++\n",
      "0.534359\n",
      "GetLoss(): +++++++++++++++++++++++++++++++++++++++++++++++++++\n",
      "0.534004\n",
      "GetLoss(): +++++++++++++++++++++++++++++++++++++++++++++++++++\n",
      "0.533759\n",
      "GetLoss(): +++++++++++++++++++++++++++++++++++++++++++++++++++\n",
      "0.533583\n",
      "GetLoss(): +++++++++++++++++++++++++++++++++++++++++++++++++++\n",
      "0.533454\n",
      "GetLoss(): +++++++++++++++++++++++++++++++++++++++++++++++++++\n",
      "0.533355\n",
      "GetLoss(): +++++++++++++++++++++++++++++++++++++++++++++++++++\n",
      "0.533279\n",
      "GetLoss(): +++++++++++++++++++++++++++++++++++++++++++++++++++\n",
      "0.533218\n",
      "GetLoss(): +++++++++++++++++++++++++++++++++++++++++++++++++++\n",
      "0.53317\n",
      "GetLoss(): +++++++++++++++++++++++++++++++++++++++++++++++++++\n",
      "0.53313\n",
      "GetLoss(): +++++++++++++++++++++++++++++++++++++++++++++++++++\n",
      "0.533097\n",
      "GetLoss(): +++++++++++++++++++++++++++++++++++++++++++++++++++\n",
      "0.533069\n",
      "GetLoss(): +++++++++++++++++++++++++++++++++++++++++++++++++++\n",
      "0.533046\n",
      "GetLoss(): +++++++++++++++++++++++++++++++++++++++++++++++++++\n",
      "0.533026\n",
      "GetLoss(): +++++++++++++++++++++++++++++++++++++++++++++++++++\n",
      "0.533008\n",
      "GetLoss(): +++++++++++++++++++++++++++++++++++++++++++++++++++\n",
      "0.532994\n",
      "GetLoss(): +++++++++++++++++++++++++++++++++++++++++++++++++++\n",
      "0.532981\n",
      "GetLoss(): +++++++++++++++++++++++++++++++++++++++++++++++++++\n",
      "0.532969\n",
      "GetLoss(): +++++++++++++++++++++++++++++++++++++++++++++++++++\n",
      "0.532959\n",
      "GetLoss(): +++++++++++++++++++++++++++++++++++++++++++++++++++\n",
      "0.532951\n",
      "GetLoss(): +++++++++++++++++++++++++++++++++++++++++++++++++++\n",
      "0.532943\n",
      "GetLoss(): +++++++++++++++++++++++++++++++++++++++++++++++++++\n",
      "0.532936\n",
      "GetLoss(): +++++++++++++++++++++++++++++++++++++++++++++++++++\n",
      "0.53293\n",
      "GetLoss(): +++++++++++++++++++++++++++++++++++++++++++++++++++\n",
      "0.532924\n",
      "GetLoss(): +++++++++++++++++++++++++++++++++++++++++++++++++++\n",
      "0.532919\n",
      "GetLoss(): +++++++++++++++++++++++++++++++++++++++++++++++++++\n",
      "0.532915\n",
      "GetLoss(): +++++++++++++++++++++++++++++++++++++++++++++++++++\n",
      "0.532911\n",
      "GetLoss(): +++++++++++++++++++++++++++++++++++++++++++++++++++\n",
      "0.532907\n",
      "GetLoss(): +++++++++++++++++++++++++++++++++++++++++++++++++++\n",
      "0.532904\n",
      "Test Sample:\n",
      "262144rows\n"
     ]
    }
   ],
   "source": [
    "segSimple.Train(imsTrain[:,0],lbsTrainOneHot[:,0:2],0.000001,30)\n",
    "segSimpleOut = segSimple.Test(imsTrain[:,0])"
   ]
  },
  {
   "cell_type": "code",
   "execution_count": 15,
   "metadata": {},
   "outputs": [
    {
     "data": {
      "image/png": "[encoded data removed]",
      "text/plain": [
       "<Figure size 720x720 with 4 Axes>"
      ]
     },
     "metadata": {
      "needs_background": "light"
     },
     "output_type": "display_data"
    }
   ],
   "source": [
    "f = plt.figure(figsize=(10,10))\n",
    "f.suptitle('Top original vs Bottom Output', fontsize=16)\n",
    "plt.subplot(221)\n",
    "plt.imshow(np.reshape(lbsTrainOneHot[:,0],(512,512)), interpolation='nearest', cmap='gray')\n",
    "plt.subplot(222)\n",
    "plt.imshow(np.reshape(lbsTrainOneHot[:,1],(512,512)), interpolation='nearest', cmap='gray')\n",
    "plt.subplot(223)\n",
    "plt.imshow(np.reshape(segSimpleOut[:,0],(512,512)), interpolation='nearest', cmap='gray')\n",
    "plt.subplot(224)\n",
    "plt.imshow(np.reshape(segSimpleOut[:,1],(512,512)), interpolation='nearest', cmap='gray')\n",
    "plt.show()"
   ]
  }
 ],
 "metadata": {
  "kernelspec": {
   "display_name": "Python 3",
   "language": "python",
   "name": "python3"
  },
  "language_info": {
   "codemirror_mode": {
    "name": "ipython",
    "version": 3
   },
   "file_extension": ".py",
   "mimetype": "text/x-python",
   "name": "python",
   "nbconvert_exporter": "python",
   "pygments_lexer": "ipython3",
   "version": "3.7.3"
  }
 },
 "nbformat": 4,
 "nbformat_minor": 2
}

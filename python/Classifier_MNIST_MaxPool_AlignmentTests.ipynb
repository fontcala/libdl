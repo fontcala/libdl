{
 "cells": [
  {
   "cell_type": "markdown",
   "metadata": {},
   "source": [
    "# Classifier_MNIST_MaxPool_Test#\n",
    "### In this example nesterov sgd and maxpool are being tested. A simple architecture using maxpool as well and few training iterations already result in a very good classification (>95%).\n",
    "#### Network ####\n",
    "Conv (5x5) -\n",
    "Maxp -\n",
    "Conv (3x3) -\n",
    "Flatten -\n",
    "Dense\n",
    "#### Note ####\n",
    "Always converges to a nice solution"
   ]
  },
  {
   "cell_type": "code",
   "execution_count": 1,
   "metadata": {
    "scrolled": true
   },
   "outputs": [
    {
     "name": "stdout",
     "output_type": "stream",
     "text": [
      "3.6.9\n",
      "['/home/adria/anaconda3/lib/python36.zip', '/home/adria/anaconda3/lib/python3.6', '/home/adria/anaconda3/lib/python3.6/lib-dynload', '', '/home/adria/.local/lib/python3.6/site-packages', '/home/adria/anaconda3/lib/python3.6/site-packages', '/home/adria/anaconda3/lib/python3.6/site-packages/IPython/extensions', '/home/adria/.ipython', '/home/adria/Documents/GITHUB/libdl/python/../build/python']\n"
     ]
    }
   ],
   "source": [
    "from platform import python_version\n",
    "print(python_version()) # tested with 3.7.1\n",
    "# this adds the python wrapper module directory to the path.\n",
    "import os\n",
    "import sys\n",
    "import importlib\n",
    "bindingspath = os.getcwd() + '/../build/python'\n",
    "sys.path.append(bindingspath)\n",
    "print(sys.path)"
   ]
  },
  {
   "cell_type": "code",
   "execution_count": 2,
   "metadata": {
    "scrolled": true
   },
   "outputs": [],
   "source": [
    "# The library wrapper\n",
    "import pybindings as pyb"
   ]
  },
  {
   "cell_type": "code",
   "execution_count": 3,
   "metadata": {},
   "outputs": [],
   "source": [
    "# Load Mnist\n",
    "from sklearn.datasets import fetch_openml\n",
    "from sklearn.model_selection import train_test_split\n",
    "mnist = fetch_openml('mnist_784', version=1, cache=True)\n",
    "trX, teX, trY, teY = train_test_split(mnist.data / 255.0, mnist.target.astype(\"int0\"), test_size = 0.33)\n",
    "\n",
    "# Data vectors are expected in columns\n",
    "trX = trX.transpose();\n",
    "teX = teX.transpose();"
   ]
  },
  {
   "cell_type": "code",
   "execution_count": 4,
   "metadata": {},
   "outputs": [],
   "source": [
    "# Do one-hot encoding  of the labels\n",
    "from sklearn.preprocessing import OneHotEncoder\n",
    "enc = OneHotEncoder(categories='auto')\n",
    "enc.fit(trY.reshape(-1, 1))\n",
    "\n",
    "trLabelsOneHot = enc.transform(trY.reshape(-1, 1)).toarray()\n",
    "teLabelsOneHot = enc.transform(teY.reshape(-1, 1)).toarray()"
   ]
  },
  {
   "cell_type": "code",
   "execution_count": 5,
   "metadata": {},
   "outputs": [
    {
     "name": "stdout",
     "output_type": "stream",
     "text": [
      "Values per Image: 784\n",
      "Number of images for training: 46900\n",
      "Number of images for testing: 23100\n",
      "--- ---\n",
      "Training Labels: 46900\n",
      "Training Labels: 10\n"
     ]
    }
   ],
   "source": [
    "# dataset properties\n",
    "print(\"Values per Image:\", trX.shape[0])\n",
    "print(\"Number of images for training:\", trX.shape[1])\n",
    "print(\"Number of images for testing:\", teX.shape[1])\n",
    "print(\"--- ---\")\n",
    "print(\"Training Labels:\", trLabelsOneHot.shape[0])\n",
    "print(\"Training Labels:\", trLabelsOneHot.shape[1])"
   ]
  },
  {
   "cell_type": "code",
   "execution_count": 6,
   "metadata": {},
   "outputs": [
    {
     "name": "stdout",
     "output_type": "stream",
     "text": [
      "Values per Image: 784\n",
      "Number of images for training: 46900\n",
      "Number of images for testing: 23100\n",
      "--- ---\n",
      "Training Labels: 46900\n",
      "Training Labels: 10\n"
     ]
    }
   ],
   "source": [
    "#subsample if necessary\n",
    "trainSampleSize = 46900;\n",
    "trXSub = trX[:,0:trainSampleSize]\n",
    "trLabelsOneHotSub = trLabelsOneHot[0:trainSampleSize,:]\n",
    "testSampleSize = 23100;\n",
    "teXSub = teX[:,0:testSampleSize]\n",
    "teLabelsOneHotSub = teLabelsOneHot[0:testSampleSize,:]\n",
    "print(\"Values per Image:\", trXSub.shape[0])\n",
    "print(\"Number of images for training:\", trXSub.shape[1])\n",
    "print(\"Number of images for testing:\", teXSub.shape[1])\n",
    "print(\"--- ---\")\n",
    "print(\"Training Labels:\", trLabelsOneHotSub.shape[0])\n",
    "print(\"Training Labels:\", trLabelsOneHotSub.shape[1])"
   ]
  },
  {
   "cell_type": "code",
   "execution_count": null,
   "metadata": {},
   "outputs": [],
   "source": []
  },
  {
   "cell_type": "code",
   "execution_count": 7,
   "metadata": {},
   "outputs": [
    {
     "name": "stdout",
     "output_type": "stream",
     "text": [
      "Conv In Depth: 1 In Height: 28 In Width: 28 Out Depth: 12 Out Height: 26 Out Width: 26\n",
      "Maxp In Depth: 12 In Height: 26 In Width: 26 Out Depth: 12 Out Height: 13 Out Width: 13\n",
      "Conv In Depth: 12 In Height: 13 In Width: 13 Out Depth: 8 Out Height: 13 Out Width: 13\n",
      "trainingLoss[0]=0.127545\n",
      "trainingLoss[1]=0.0553551\n",
      "trainingLoss[2]=0.0435029\n",
      "trainingLoss[3]=0.0374065\n",
      "trainingLoss[4]=0.0321742\n",
      "trainingLoss[5]=0.0286015\n",
      "trainingLoss[6]=0.0256641\n",
      "trainingLoss[7]=0.0230652\n",
      "trainingLoss[8]=0.0222691\n",
      "trainingLoss[9]=0.0189536\n",
      "trainingLoss[10]=0.0180916\n",
      "trainingLoss[11]=0.0171756\n",
      "trainingLoss[12]=0.0160034\n",
      "trainingLoss[13]=0.0136074\n",
      "trainingLoss[14]=0.0138548\n",
      "trainingLoss[15]=0.0116685\n",
      "trainingLoss[16]=0.0099114\n",
      "trainingLoss[17]=0.0106018\n",
      "trainingLoss[18]=0.00894451\n",
      "trainingLoss[19]=0.00973592\n",
      "test Accuracy is 0.982727\n"
     ]
    }
   ],
   "source": [
    "# Set parameters of a given architecture example\n",
    "exampleModelBP = pyb.CNNClassificationAlignmentTestBP(5,3,1,1,12,8)\n",
    "exampleModelBP.setTrainInputs(trXSub,1,28,28)\n",
    "exampleModelBP.setTrainLabels(trLabelsOneHotSub,10)\n",
    "exampleModelBP.setTestInputs(teXSub);\n",
    "exampleModelBP.setTestLabels(teLabelsOneHotSub)\n",
    "exampleModelBP.setLearningRate(0.0005)\n",
    "testResultsBP = exampleModelBP.runExample(20)"
   ]
  },
  {
   "cell_type": "code",
   "execution_count": 7,
   "metadata": {},
   "outputs": [
    {
     "name": "stdout",
     "output_type": "stream",
     "text": [
      "Conv In Depth: 1 In Height: 28 In Width: 28 Out Depth: 12 Out Height: 26 Out Width: 26\n",
      "Maxp In Depth: 12 In Height: 26 In Width: 26 Out Depth: 12 Out Height: 13 Out Width: 13\n",
      "Conv In Depth: 12 In Height: 13 In Width: 13 Out Depth: 8 Out Height: 13 Out Width: 13\n",
      "trainingLoss[0]=0.351297\n",
      "trainingLoss[1]=0.275043\n",
      "trainingLoss[2]=0.253236\n",
      "trainingLoss[3]=0.228225\n",
      "trainingLoss[4]=0.214588\n",
      "trainingLoss[5]=0.206122\n",
      "trainingLoss[6]=0.209631\n",
      "trainingLoss[7]=0.209445\n",
      "trainingLoss[8]=0.233356\n",
      "trainingLoss[9]=0.200475\n",
      "trainingLoss[10]=0.203689\n",
      "trainingLoss[11]=0.206516\n",
      "trainingLoss[12]=0.202873\n",
      "trainingLoss[13]=0.193799\n",
      "trainingLoss[14]=0.194278\n",
      "trainingLoss[15]=0.197315\n",
      "trainingLoss[16]=0.181502\n",
      "trainingLoss[17]=0.185593\n",
      "trainingLoss[18]=0.177698\n",
      "trainingLoss[19]=0.172727\n",
      "test Accuracy is 0.970606\n"
     ]
    }
   ],
   "source": [
    "# Set parameters of a given architecture example\n",
    "exampleModelFA = pyb.CNNClassificationAlignmentTestFA(5,3,1,1,12,8)\n",
    "exampleModelFA.setTrainInputs(trXSub,1,28,28)\n",
    "exampleModelFA.setTrainLabels(trLabelsOneHotSub,10)\n",
    "exampleModelFA.setTestInputs(teXSub);\n",
    "exampleModelFA.setTestLabels(teLabelsOneHotSub)\n",
    "exampleModelFA.setLearningRate(0.0005)\n",
    "testResultsFA = exampleModelFA.runExample(20)"
   ]
  },
  {
   "cell_type": "code",
   "execution_count": null,
   "metadata": {},
   "outputs": [],
   "source": [
    "# Set parameters of a given architecture example\n",
    "exampleModelSFA = pyb.CNNClassificationAlignmentTestFSA(5,3,1,1,12,8)\n",
    "exampleModelSFA.setTrainInputs(trXSub,1,28,28)\n",
    "exampleModelSFA.setTrainLabels(trLabelsOneHotSub,10)\n",
    "exampleModelSFA.setTestInputs(teXSub);\n",
    "exampleModelSFA.setTestLabels(teLabelsOneHotSub)\n",
    "exampleModelSFA.setLearningRate(0.0005)\n",
    "testResultsSFA = exampleModelSFA.runExample(20)"
   ]
  },
  {
   "cell_type": "code",
   "execution_count": null,
   "metadata": {},
   "outputs": [],
   "source": [
    "#check test results (subset) (it seems to get 5 - 3 confused sometimes)\n",
    "subset = 10;\n",
    "print(\"true     labels:\", teY[0:subset].tolist())\n",
    "print(\"computed labels:\", testResults[0:subset])\n"
   ]
  },
  {
   "cell_type": "code",
   "execution_count": null,
   "metadata": {},
   "outputs": [],
   "source": [
    "from matplotlib import pyplot as plt\n",
    "%matplotlib inline \n",
    "import numpy as np\n",
    "\n",
    "# Choose a sample you want to visualize the test result for.\n",
    "sampleID = 1;\n",
    "sampleImage = np.reshape(teXSub[:,sampleID],(28,28))\n",
    "plt.title(\"Predicted label for this image is %i\" %testResults[sampleID])\n",
    "plt.imshow(sampleImage, interpolation='nearest', cmap='gray')\n",
    "plt.show()\n"
   ]
  },
  {
   "cell_type": "code",
   "execution_count": null,
   "metadata": {},
   "outputs": [],
   "source": []
  }
 ],
 "metadata": {
  "kernelspec": {
   "display_name": "Python 3",
   "language": "python",
   "name": "python3"
  },
  "language_info": {
   "codemirror_mode": {
    "name": "ipython",
    "version": 3
   },
   "file_extension": ".py",
   "mimetype": "text/x-python",
   "name": "python",
   "nbconvert_exporter": "python",
   "pygments_lexer": "ipython3",
   "version": "3.6.9"
  }
 },
 "nbformat": 4,
 "nbformat_minor": 2
}

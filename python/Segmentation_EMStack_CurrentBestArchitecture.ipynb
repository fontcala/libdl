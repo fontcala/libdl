{
 "cells": [
  {
   "cell_type": "markdown",
   "metadata": {},
   "source": [
    "# Segmentation_EMStack_CurrentBestArchitecture#\n",
    "### In this example, the best current architecture is being explored. Limitations for this task are the amount of time training takes, the more layers are added.\n",
    "#### Network ####\n",
    "See below\n",
    "#### Note ####\n",
    "Almost always converges to a nice solution."
   ]
  },
  {
   "cell_type": "code",
   "execution_count": 1,
   "metadata": {
    "scrolled": true
   },
   "outputs": [
    {
     "name": "stdout",
     "output_type": "stream",
     "text": [
      "3.6.9\n",
      "['/home/adria/anaconda3/lib/python36.zip', '/home/adria/anaconda3/lib/python3.6', '/home/adria/anaconda3/lib/python3.6/lib-dynload', '', '/home/adria/.local/lib/python3.6/site-packages', '/home/adria/anaconda3/lib/python3.6/site-packages', '/home/adria/anaconda3/lib/python3.6/site-packages/IPython/extensions', '/home/adria/.ipython', '/home/adria/Documents/GITHUB/libdl/python/../build/python']\n"
     ]
    }
   ],
   "source": [
    "from platform import python_version\n",
    "print(python_version()) # tested with 3.7.1\n",
    "# this adds the python wrapper module directory to the path.\n",
    "import os\n",
    "import sys\n",
    "import numpy as np\n",
    "import importlib\n",
    "bindingspath = os.getcwd() + '/../build/python'\n",
    "sys.path.append(bindingspath)\n",
    "print(sys.path)"
   ]
  },
  {
   "cell_type": "code",
   "execution_count": 2,
   "metadata": {
    "scrolled": true
   },
   "outputs": [],
   "source": [
    "# The library wrapper\n",
    "import pybindings as pyb"
   ]
  },
  {
   "cell_type": "code",
   "execution_count": 3,
   "metadata": {},
   "outputs": [],
   "source": [
    "from matplotlib import pyplot as plt\n",
    "from sklearn.preprocessing import OneHotEncoder\n",
    "from skimage import io\n",
    "imTrain = io.imread(os.getcwd() + '/data/train-volume.tif')\n",
    "NumImages = 30;\n",
    "ImageDim = 512 * 512\n",
    "imsTrain = np.reshape(imTrain, (NumImages, ImageDim)).transpose() \n",
    "imsTrain = imsTrain.astype(np.double)/255\n",
    "\n",
    "imTest = io.imread(os.getcwd() + '/data/test-volume.tif')\n",
    "imsTest = np.reshape(imTest, (NumImages, ImageDim)).transpose() \n",
    "imsTest = imsTest.astype(np.double)/255\n",
    "\n",
    "lbTrain = io.imread(os.getcwd() + '/data/train-labels.tif')\n",
    "lbsTrain = np.reshape(lbTrain, (NumImages, ImageDim)).transpose()\n",
    "enc = OneHotEncoder(categories='auto')\n",
    "enc.fit(lbsTrain.reshape(-1, 1))\n",
    "lbsTrainOneHot = np.zeros((ImageDim,NumImages * 2))\n",
    "for idx in range(0,NumImages):\n",
    "    lbsTrainOneHot[:,2*idx:(2*idx +2)] = enc.transform(lbsTrain[:,idx].reshape(-1, 1)).toarray()\n",
    "idx = 0\n",
    "someIm0 = imsTrain[:,0];\n",
    "someLb0 = lbsTrain[:,0];\n",
    "someIm1 = imsTrain[:,1];\n",
    "someLb1 = lbsTrain[:,1];"
   ]
  },
  {
   "cell_type": "code",
   "execution_count": 4,
   "metadata": {},
   "outputs": [
    {
     "name": "stdout",
     "output_type": "stream",
     "text": [
      "Values per Image: 262144\n",
      "Number of images for training: 30\n",
      "Values per  Label Image: 262144\n",
      "Number of images for Label training: 60\n"
     ]
    }
   ],
   "source": [
    "print(\"Values per Image:\", imsTrain.shape[0])\n",
    "print(\"Number of images for training:\", imsTrain.shape[1])\n",
    "\n",
    "print(\"Values per  Label Image:\", lbsTrainOneHot.shape[0])\n",
    "print(\"Number of images for Label training:\", lbsTrainOneHot.shape[1])\n",
    "plt.ion()\n",
    "inputVar = 30 # change to visualize\n",
    "while inputVar < 30:\n",
    "    f = plt.figure(figsize=(20,5))\n",
    "    f.suptitle('Original image and One Hot Labels', fontsize=16)\n",
    "    plt.subplot(131)\n",
    "    plt.imshow(np.reshape(imsTrain[:,inputVar],(512,512)), interpolation='nearest', cmap='gray')\n",
    "    plt.subplot(132)\n",
    "    plt.imshow(np.reshape(lbsTrainOneHot[:,2 * inputVar],(512,512)), interpolation='nearest', cmap='gray')\n",
    "    plt.subplot(133)\n",
    "    plt.imshow(np.reshape(lbsTrainOneHot[:,2 * inputVar + 1],(512,512)), interpolation='nearest', cmap='gray')\n",
    "    plt.show()\n",
    "    inputVar = int(input(\"Next Index? (Press 30 or larger escape).\"))# wait for input from the user"
   ]
  },
  {
   "cell_type": "code",
   "execution_count": 5,
   "metadata": {},
   "outputs": [
    {
     "name": "stdout",
     "output_type": "stream",
     "text": [
      "Conv In Depth: 1 In Height: 512 In Width: 512 Out Depth: 8 Out Height: 512 Out Width: 512\n",
      "Conv In Depth: 8 In Height: 512 In Width: 512 Out Depth: 16 Out Height: 512 Out Width: 512\n",
      "Maxp In Depth: 16 In Height: 512 In Width: 512 Out Depth: 16 Out Height: 256 Out Width: 256\n",
      "Conv In Depth: 16 In Height: 256 In Width: 256 Out Depth: 32 Out Height: 256 Out Width: 256\n",
      "Conv In Depth: 32 In Height: 256 In Width: 256 Out Depth: 32 Out Height: 256 Out Width: 256\n",
      "Maxp In Depth: 32 In Height: 256 In Width: 256 Out Depth: 32 Out Height: 128 Out Width: 128\n",
      "Tran In Depth: 32 In Height: 128 In Width: 128 Out Depth: 32 Out Height: 256 Out Width: 256\n",
      "Conv In Depth: 32 In Height: 256 In Width: 256 Out Depth: 16 Out Height: 256 Out Width: 256\n",
      "Tran In Depth: 16 In Height: 256 In Width: 256 Out Depth: 8 Out Height: 512 Out Width: 512\n",
      "Conv In Depth: 8 In Height: 512 In Width: 512 Out Depth: 2 Out Height: 512 Out Width: 512\n"
     ]
    }
   ],
   "source": [
    "labelDepth = 2\n",
    "#segSimple = pyb.SegmentationExample1(512,512,1,convolutionDepth,labelDepth)\n",
    "segSimple = pyb.SegmentationExample8(512,512,1,labelDepth)"
   ]
  },
  {
   "cell_type": "code",
   "execution_count": null,
   "metadata": {},
   "outputs": [
    {
     "name": "stdout",
     "output_type": "stream",
     "text": [
      "Loss of a given sample at epoch: 0\n",
      "39611.2\n",
      "Loss of a given sample at epoch: 1\n"
     ]
    }
   ],
   "source": [
    "segSimple.Train(imsTrain,lbsTrainOneHot,0.0000005,1)\n",
    "segSimpleOut = segSimple.Test(imsTrain[:,0])"
   ]
  },
  {
   "cell_type": "code",
   "execution_count": null,
   "metadata": {
    "scrolled": false
   },
   "outputs": [],
   "source": [
    "# Since the testing labels are not provided, here I check one of the training images.\n",
    "f = plt.figure(figsize=(10,10))\n",
    "f.suptitle('Top original vs Bottom Output', fontsize=16)\n",
    "plt.subplot(221)\n",
    "plt.imshow(np.reshape(lbsTrainOneHot[:,0],(512,512))[10:500,10:500], interpolation='nearest', cmap='gray')\n",
    "plt.subplot(222)\n",
    "plt.imshow(np.reshape(lbsTrainOneHot[:,1],(512,512))[10:500,10:500], interpolation='nearest', cmap='gray')\n",
    "plt.subplot(223)\n",
    "plt.imshow(np.reshape(segSimpleOut[:,0],(512,512))[10:500,10:500], interpolation='nearest', cmap='gray')\n",
    "plt.subplot(224)\n",
    "plt.imshow(np.reshape(segSimpleOut[:,1],(512,512))[10:500,10:500], interpolation='nearest', cmap='gray')\n",
    "plt.show()"
   ]
  },
  {
   "cell_type": "code",
   "execution_count": null,
   "metadata": {},
   "outputs": [],
   "source": [
    "segSimpleOut = segSimple.Test(imsTest[:,0])\n",
    "f = plt.figure(figsize=(10,10))\n",
    "f.suptitle('Actual Testing Images', fontsize=16)\n",
    "plt.subplot(121)\n",
    "plt.imshow(np.reshape(segSimpleOut[:,0],(512,512))[10:500,10:500], interpolation='nearest', cmap='gray')\n",
    "plt.subplot(122)\n",
    "plt.imshow(np.reshape(segSimpleOut[:,1],(512,512))[10:500,10:500], interpolation='nearest', cmap='gray')\n",
    "plt.show()"
   ]
  },
  {
   "cell_type": "code",
   "execution_count": null,
   "metadata": {},
   "outputs": [],
   "source": [
    "segSimpleOut.tolist()"
   ]
  }
 ],
 "metadata": {
  "kernelspec": {
   "display_name": "Python 3",
   "language": "python",
   "name": "python3"
  },
  "language_info": {
   "codemirror_mode": {
    "name": "ipython",
    "version": 3
   },
   "file_extension": ".py",
   "mimetype": "text/x-python",
   "name": "python",
   "nbconvert_exporter": "python",
   "pygments_lexer": "ipython3",
   "version": "3.6.9"
  }
 },
 "nbformat": 4,
 "nbformat_minor": 2
}

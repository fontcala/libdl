{
 "cells": [
  {
   "cell_type": "code",
   "execution_count": 1,
   "metadata": {
    "scrolled": true
   },
   "outputs": [
    {
     "name": "stdout",
     "output_type": "stream",
     "text": [
      "3.7.3\n",
      "['/home/adria/Documents/Documents/TUM/dlfs/libdl/python', '/home/adria/anaconda3/lib/python37.zip', '/home/adria/anaconda3/lib/python3.7', '/home/adria/anaconda3/lib/python3.7/lib-dynload', '', '/home/adria/anaconda3/lib/python3.7/site-packages', '/home/adria/anaconda3/lib/python3.7/site-packages/IPython/extensions', '/home/adria/.ipython', '/home/adria/Documents/Documents/TUM/dlfs/libdl/python/../build/python']\n"
     ]
    }
   ],
   "source": [
    "from platform import python_version\n",
    "print(python_version()) # tested with 3.7.1\n",
    "# this adds the python wrapper module directory to the path.\n",
    "import os\n",
    "import sys\n",
    "import numpy as np\n",
    "import importlib\n",
    "bindingspath = os.getcwd() + '/../build/python'\n",
    "sys.path.append(bindingspath)\n",
    "print(sys.path)"
   ]
  },
  {
   "cell_type": "code",
   "execution_count": 2,
   "metadata": {
    "scrolled": true
   },
   "outputs": [],
   "source": [
    "# The library wrapper\n",
    "import pybindings as pyb"
   ]
  },
  {
   "cell_type": "code",
   "execution_count": 3,
   "metadata": {},
   "outputs": [],
   "source": [
    "from matplotlib import pyplot as plt\n",
    "from sklearn.preprocessing import OneHotEncoder\n",
    "from skimage import io\n",
    "imTrain = io.imread(os.getcwd() + '/data/train-volume.tif')\n",
    "NumImages = 30;\n",
    "ImageDim = 512 * 512\n",
    "imsTrain = np.reshape(imTrain, (NumImages, ImageDim)).transpose()\n",
    "imsTrain = imsTrain.astype(np.double)/255\n",
    "\n",
    "\n",
    "\n",
    "lbTrain = io.imread(os.getcwd() + '/data/train-labels.tif')\n",
    "lbsTrain = np.reshape(lbTrain, (NumImages, ImageDim)).transpose()\n",
    "enc = OneHotEncoder(categories='auto')\n",
    "enc.fit(lbsTrain.reshape(-1, 1))\n",
    "lbsTrainOneHot = np.zeros((ImageDim,NumImages * 2))\n",
    "for idx in range(0,NumImages):\n",
    "    lbsTrainOneHot[:,2*idx:(2*idx +2)] = enc.transform(lbsTrain[:,idx].reshape(-1, 1)).toarray()\n",
    "idx = 0\n",
    "someIm0 = imsTrain[:,0];\n",
    "someLb0 = lbsTrain[:,0];\n",
    "someIm1 = imsTrain[:,1];\n",
    "someLb1 = lbsTrain[:,1];"
   ]
  },
  {
   "cell_type": "code",
   "execution_count": 4,
   "metadata": {},
   "outputs": [
    {
     "name": "stdout",
     "output_type": "stream",
     "text": [
      "Values per Image: 262144\n",
      "Number of images for training: 30\n",
      "Values per  Label Image: 262144\n",
      "Number of images for Label training: 60\n"
     ]
    }
   ],
   "source": [
    "print(\"Values per Image:\", imsTrain.shape[0])\n",
    "print(\"Number of images for training:\", imsTrain.shape[1])\n",
    "\n",
    "print(\"Values per  Label Image:\", lbsTrainOneHot.shape[0])\n",
    "print(\"Number of images for Label training:\", lbsTrainOneHot.shape[1])\n",
    "plt.ion()\n",
    "inputVar = 30 # change to visualize\n",
    "while inputVar < 30:\n",
    "    f = plt.figure(figsize=(20,5))\n",
    "    f.suptitle('Original image and One Hot Labels', fontsize=16)\n",
    "    plt.subplot(131)\n",
    "    plt.imshow(np.reshape(imsTrain[:,inputVar],(512,512)), interpolation='nearest', cmap='gray')\n",
    "    plt.subplot(132)\n",
    "    plt.imshow(np.reshape(lbsTrainOneHot[:,2 * inputVar],(512,512)), interpolation='nearest', cmap='gray')\n",
    "    plt.subplot(133)\n",
    "    plt.imshow(np.reshape(lbsTrainOneHot[:,2 * inputVar + 1],(512,512)), interpolation='nearest', cmap='gray')\n",
    "    plt.show()\n",
    "    inputVar = int(input(\"Next Index? (Press 30 or larger escape).\"))# wait for input from the user"
   ]
  },
  {
   "cell_type": "code",
   "execution_count": null,
   "metadata": {},
   "outputs": [
    {
     "name": "stdout",
     "output_type": "stream",
     "text": [
      "Conv In Depth: 1 In Height: 512 In Width: 512 Out Depth: 2 Out Height: 510 Out Width: 510\n",
      "Conv In Depth: 2 In Height: 510 In Width: 510 Out Depth: 2 Out Height: 508 Out Width: 508\n",
      "Conv In Depth: 2 In Height: 508 In Width: 508 Out Depth: 2 Out Height: 506 Out Width: 506\n",
      "Conv In Depth: 2 In Height: 506 In Width: 506 Out Depth: 2 Out Height: 504 Out Width: 504\n",
      "Conv In Depth: 2 In Height: 504 In Width: 504 Out Depth: 4 Out Height: 502 Out Width: 502\n",
      "Conv In Depth: 4 In Height: 502 In Width: 502 Out Depth: 4 Out Height: 500 Out Width: 500\n",
      "Conv In Depth: 4 In Height: 500 In Width: 500 Out Depth: 4 Out Height: 498 Out Width: 498\n",
      "Conv In Depth: 4 In Height: 498 In Width: 498 Out Depth: 5 Out Height: 496 Out Width: 496\n",
      "Tran In Depth: 5 In Height: 496 In Width: 496 Out Depth: 4 Out Height: 498 Out Width: 498\n",
      "Tran In Depth: 4 In Height: 498 In Width: 498 Out Depth: 4 Out Height: 500 Out Width: 500\n",
      "Tran In Depth: 4 In Height: 500 In Width: 500 Out Depth: 4 Out Height: 502 Out Width: 502\n",
      "Tran In Depth: 4 In Height: 502 In Width: 502 Out Depth: 2 Out Height: 504 Out Width: 504\n",
      "Tran In Depth: 2 In Height: 504 In Width: 504 Out Depth: 2 Out Height: 506 Out Width: 506\n",
      "Tran In Depth: 2 In Height: 506 In Width: 506 Out Depth: 2 Out Height: 508 Out Width: 508\n",
      "Tran In Depth: 2 In Height: 508 In Width: 508 Out Depth: 2 Out Height: 510 Out Width: 510\n",
      "Tran In Depth: 2 In Height: 510 In Width: 510 Out Depth: 2 Out Height: 512 Out Width: 512\n"
     ]
    }
   ],
   "source": [
    "labelDepth = 2\n",
    "segSimple = pyb.SegmentationExample3(512,512,1,labelDepth,\n",
    "                                    3,3,3,3,3,3,3,3)"
   ]
  },
  {
   "cell_type": "code",
   "execution_count": null,
   "metadata": {},
   "outputs": [
    {
     "name": "stdout",
     "output_type": "stream",
     "text": [
      "21 vIndex\n",
      "6 vIndex\n",
      "4 vIndex\n",
      "5 vIndex\n",
      "14 vIndex\n",
      "16 vIndex\n",
      "24 vIndex\n",
      "13 vIndex\n",
      "19 vIndex\n",
      "7 vIndex\n",
      "8 vIndex\n",
      "9 vIndex\n",
      "20 vIndex\n",
      "10 vIndex\n",
      "27 vIndex\n",
      "18 vIndex\n",
      "26 vIndex\n",
      "11 vIndex\n",
      "25 vIndex\n",
      "3 vIndex\n",
      "0 vIndex\n",
      "12 vIndex\n",
      "2 vIndex\n",
      "28 vIndex\n",
      "17 vIndex\n",
      "29 vIndex\n",
      "23 vIndex\n",
      "15 vIndex\n",
      "22 vIndex\n",
      "1 vIndex\n",
      "Loss of a given sample at epoch: 0\n",
      "0.547787\n",
      "25 vIndex\n",
      "23 vIndex\n",
      "16 vIndex\n",
      "0 vIndex\n",
      "26 vIndex\n",
      "9 vIndex\n",
      "4 vIndex\n",
      "22 vIndex\n",
      "12 vIndex\n",
      "7 vIndex\n",
      "5 vIndex\n",
      "11 vIndex\n",
      "18 vIndex\n",
      "6 vIndex\n",
      "24 vIndex\n",
      "14 vIndex\n",
      "15 vIndex\n",
      "1 vIndex\n",
      "20 vIndex\n",
      "28 vIndex\n",
      "27 vIndex\n",
      "17 vIndex\n",
      "19 vIndex\n",
      "13 vIndex\n",
      "2 vIndex\n",
      "10 vIndex\n",
      "29 vIndex\n",
      "21 vIndex\n",
      "8 vIndex\n",
      "3 vIndex\n",
      "Loss of a given sample at epoch: 1\n",
      "0.558683\n",
      "16 vIndex\n",
      "3 vIndex\n"
     ]
    }
   ],
   "source": [
    "segSimple.Train(imsTrain,lbsTrainOneHot,0.0000001,10)\n",
    "segSimple.Train(imsTrain,lbsTrainOneHot,0.00000001,10)\n",
    "segSimpleOut = segSimple.Test(imsTrain[:,0])"
   ]
  },
  {
   "cell_type": "code",
   "execution_count": null,
   "metadata": {},
   "outputs": [],
   "source": [
    "segSimpleOut2 = segSimpleOut.copy()\n",
    "segSimpleOut2[segSimpleOut >= 0.5] = 1.0\n",
    "segSimpleOut2[segSimpleOut < 0.5] = 0.0\n",
    "\n",
    "f = plt.figure(figsize=(10,10))\n",
    "f.suptitle('Top original vs Bottom Output', fontsize=16)\n",
    "plt.subplot(221)\n",
    "plt.imshow(np.reshape(lbsTrainOneHot[:,0],(512,512)), interpolation='nearest', cmap='gray')\n",
    "plt.subplot(222)\n",
    "plt.imshow(np.reshape(lbsTrainOneHot[:,1],(512,512)), interpolation='nearest', cmap='gray')\n",
    "plt.subplot(223)\n",
    "plt.imshow(np.reshape(segSimpleOut[:,0],(512,512)), interpolation='nearest', cmap='gray')\n",
    "plt.subplot(224)\n",
    "plt.imshow(np.reshape(segSimpleOut[:,1],(512,512)), interpolation='nearest', cmap='gray')\n",
    "plt.show()"
   ]
  },
  {
   "cell_type": "code",
   "execution_count": null,
   "metadata": {},
   "outputs": [],
   "source": [
    "segSimpleOut"
   ]
  }
 ],
 "metadata": {
  "kernelspec": {
   "display_name": "Python 3",
   "language": "python",
   "name": "python3"
  },
  "language_info": {
   "codemirror_mode": {
    "name": "ipython",
    "version": 3
   },
   "file_extension": ".py",
   "mimetype": "text/x-python",
   "name": "python",
   "nbconvert_exporter": "python",
   "pygments_lexer": "ipython3",
   "version": "3.7.3"
  }
 },
 "nbformat": 4,
 "nbformat_minor": 2
}

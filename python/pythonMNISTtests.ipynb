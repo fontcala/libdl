{
 "cells": [
  {
   "cell_type": "code",
   "execution_count": 1,
   "metadata": {
    "scrolled": true
   },
   "outputs": [
    {
     "name": "stdout",
     "output_type": "stream",
     "text": [
      "3.7.1\n",
      "['/home/adria/Documents/Documents/TUM/dlfs/libdl/python', '/home/adria/anaconda3/lib/python37.zip', '/home/adria/anaconda3/lib/python3.7', '/home/adria/anaconda3/lib/python3.7/lib-dynload', '', '/home/adria/anaconda3/lib/python3.7/site-packages', '/home/adria/anaconda3/lib/python3.7/site-packages/IPython/extensions', '/home/adria/.ipython', '/home/adria/Documents/Documents/TUM/dlfs/libdl/python/../build/python']\n"
     ]
    }
   ],
   "source": [
    "from platform import python_version\n",
    "print(python_version()) # tested with 3.7.1\n",
    "# this adds the python wrapper module directory to the path.\n",
    "import os\n",
    "import sys\n",
    "import importlib\n",
    "bindingspath = os.getcwd() + '/../build/python'\n",
    "sys.path.append(bindingspath)\n",
    "print(sys.path)"
   ]
  },
  {
   "cell_type": "code",
   "execution_count": 2,
   "metadata": {
    "scrolled": true
   },
   "outputs": [],
   "source": [
    "# The library wrapper\n",
    "import pybindings as pyb"
   ]
  },
  {
   "cell_type": "code",
   "execution_count": null,
   "metadata": {},
   "outputs": [],
   "source": [
    "# Load Mnist\n",
    "from sklearn.datasets import fetch_openml\n",
    "from sklearn.model_selection import train_test_split\n",
    "mnist = fetch_openml('mnist_784', version=1, cache=True)\n",
    "trX, teX, trY, teY = train_test_split(mnist.data / 255.0, mnist.target.astype(\"int0\"), test_size = 0.33)\n",
    "\n",
    "# Data vectors are expected in columns\n",
    "trX = trX.transpose();\n",
    "teX = teX.transpose();"
   ]
  },
  {
   "cell_type": "code",
   "execution_count": null,
   "metadata": {},
   "outputs": [],
   "source": [
    "# Do one-hot encoding  of the labels\n",
    "from sklearn.preprocessing import OneHotEncoder\n",
    "enc = OneHotEncoder(categories='auto')\n",
    "enc.fit(trY.reshape(-1, 1))\n",
    "\n",
    "trLabelsOneHot = enc.transform(trY.reshape(-1, 1)).toarray()\n",
    "teLabelsOneHot = enc.transform(teY.reshape(-1, 1)).toarray()"
   ]
  },
  {
   "cell_type": "code",
   "execution_count": null,
   "metadata": {},
   "outputs": [],
   "source": [
    "# dataset properties\n",
    "print(\"Values per Image:\", trX.shape[0])\n",
    "print(\"Number of images for training:\", trX.shape[1])\n",
    "print(\"Number of images for testing:\", teX.shape[1])\n",
    "print(\"--- ---\")\n",
    "print(\"Training Labels:\", trLabelsOneHot.shape[0])\n",
    "print(\"Training Labels:\", trLabelsOneHot.shape[1])"
   ]
  },
  {
   "cell_type": "code",
   "execution_count": null,
   "metadata": {},
   "outputs": [],
   "source": [
    "#subsample if necessary\n",
    "trainSampleSize = 46900;\n",
    "trXSub = trX[:,0:trainSampleSize]\n",
    "trLabelsOneHotSub = trLabelsOneHot[0:trainSampleSize,:]\n",
    "testSampleSize = 23100;\n",
    "teXSub = teX[:,0:testSampleSize]\n",
    "teLabelsOneHotSub = teLabelsOneHot[0:testSampleSize,:]\n",
    "print(\"Values per Image:\", trXSub.shape[0])\n",
    "print(\"Number of images for training:\", trXSub.shape[1])\n",
    "print(\"Number of images for testing:\", teXSub.shape[1])\n",
    "print(\"--- ---\")\n",
    "print(\"Training Labels:\", trLabelsOneHotSub.shape[0])\n",
    "print(\"Training Labels:\", trLabelsOneHotSub.shape[1])"
   ]
  },
  {
   "cell_type": "code",
   "execution_count": null,
   "metadata": {},
   "outputs": [],
   "source": [
    "# importlib.reload(pyb) # For some reason, this appears not to be working"
   ]
  },
  {
   "cell_type": "code",
   "execution_count": null,
   "metadata": {},
   "outputs": [],
   "source": [
    "# Set parameters of a given architecture example\n",
    "exampleModel2 = pyb.CNNClassificationExampleModel()\n",
    "exampleModel2.setTrainInputs(trXSub,1,28,28)\n",
    "exampleModel2.setTrainLabels(trLabelsOneHotSub,10)\n",
    "exampleModel2.setTestInputs(teXSub);\n",
    "exampleModel2.setTestLabels(teLabelsOneHotSub)\n",
    "exampleModel2.setLearningRate(0.00005)\n"
   ]
  },
  {
   "cell_type": "code",
   "execution_count": null,
   "metadata": {},
   "outputs": [],
   "source": [
    "# train and test (prints some result and returns test results)\n",
    "testResults = exampleModel2.runExample(2)"
   ]
  },
  {
   "cell_type": "code",
   "execution_count": null,
   "metadata": {},
   "outputs": [],
   "source": [
    "#check test results (subset) (it seems to get 5 - 3 confused sometimes)\n",
    "subset = 10;\n",
    "print(\"true     labels:\", teY[0:subset].tolist())\n",
    "print(\"computed labels:\", testResults[0:subset])\n"
   ]
  },
  {
   "cell_type": "code",
   "execution_count": null,
   "metadata": {},
   "outputs": [],
   "source": [
    "from matplotlib import pyplot as plt\n",
    "%matplotlib inline \n",
    "import numpy as np\n",
    "\n",
    "# Choose a sample you want to visualize the test result for.\n",
    "sampleID = 2;\n",
    "sampleImage = np.reshape(teXSub[:,sampleID],(28,28))\n",
    "plt.title(\"Predicted label for this image is %i\" %testResults[sampleID])\n",
    "plt.imshow(sampleImage, interpolation='nearest', cmap='gray')\n",
    "plt.show()\n"
   ]
  },
  {
   "cell_type": "code",
   "execution_count": null,
   "metadata": {},
   "outputs": [],
   "source": []
  }
 ],
 "metadata": {
  "kernelspec": {
   "display_name": "Python 3",
   "language": "python",
   "name": "python3"
  },
  "language_info": {
   "codemirror_mode": {
    "name": "ipython",
    "version": 3
   },
   "file_extension": ".py",
   "mimetype": "text/x-python",
   "name": "python",
   "nbconvert_exporter": "python",
   "pygments_lexer": "ipython3",
   "version": "3.7.1"
  }
 },
 "nbformat": 4,
 "nbformat_minor": 2
}

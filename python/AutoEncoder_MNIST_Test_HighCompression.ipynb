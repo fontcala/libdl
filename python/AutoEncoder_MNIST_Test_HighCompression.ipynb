{
 "cells": [
  {
   "cell_type": "markdown",
   "metadata": {},
   "source": [
    "# AutoEncoder_MNIST_HighCompression#\n",
    "### In this example I just want to illustrate the use of \"transposedConvLayer\" to make an Autoencoder. In this example Max Pool Layers are being used in order to obtain a grater compression.\n",
    "#### Network ####\n",
    "Input(28,28,1) - Conv(3,3)  - Maxp (2,2) - Conv(3,3) - Maxp(2,2) - Out (12,12,5) - 2xTransposedConv(2,2) - Output (28,28,1)\n",
    "#### Note ####\n",
    "Converges to a nice solution almost always"
   ]
  },
  {
   "cell_type": "code",
   "execution_count": 1,
   "metadata": {
    "scrolled": true
   },
   "outputs": [
    {
     "name": "stdout",
     "output_type": "stream",
     "text": [
      "3.7.3\n",
      "['/home/adria/Documents/Documents/TUM/dlfs/libdl/python', '/home/adria/anaconda3/lib/python37.zip', '/home/adria/anaconda3/lib/python3.7', '/home/adria/anaconda3/lib/python3.7/lib-dynload', '', '/home/adria/anaconda3/lib/python3.7/site-packages', '/home/adria/anaconda3/lib/python3.7/site-packages/IPython/extensions', '/home/adria/.ipython', '/home/adria/Documents/Documents/TUM/dlfs/libdl/python/../build/python']\n"
     ]
    }
   ],
   "source": [
    "from platform import python_version\n",
    "print(python_version()) # tested with 3.7.1\n",
    "# this adds the python wrapper module directory to the path.\n",
    "import os\n",
    "import sys\n",
    "import importlib\n",
    "bindingspath = os.getcwd() + '/../build/python'\n",
    "sys.path.append(bindingspath)\n",
    "print(sys.path)"
   ]
  },
  {
   "cell_type": "code",
   "execution_count": 2,
   "metadata": {
    "scrolled": true
   },
   "outputs": [],
   "source": [
    "# The library wrapper\n",
    "import pybindings as pyb\n",
    "import numpy as np\n",
    "from matplotlib import pyplot as plt\n",
    "%matplotlib inline "
   ]
  },
  {
   "cell_type": "code",
   "execution_count": 18,
   "metadata": {},
   "outputs": [],
   "source": [
    "# Load Mnist\n",
    "from sklearn.datasets import fetch_openml\n",
    "from sklearn.model_selection import train_test_split\n",
    "mnist = fetch_openml('mnist_784', version=1, cache=True)\n",
    "trX, teX, trY, teY = train_test_split(mnist.data / 255.0, mnist.target.astype(\"int0\"), test_size = 0.33)\n",
    "\n",
    "# Data vectors are expected in columns\n",
    "trX = trX.transpose();\n",
    "teX = teX.transpose();"
   ]
  },
  {
   "cell_type": "code",
   "execution_count": 17,
   "metadata": {},
   "outputs": [
    {
     "name": "stdout",
     "output_type": "stream",
     "text": [
      "Values per Image training: 784\n",
      "Number of images for training: 46900\n",
      "Values per Image testing: 23100\n",
      "Number of images for testing: 784\n"
     ]
    }
   ],
   "source": [
    "# dataset properties\n",
    "print(\"Values per Image training:\", trX.shape[0])\n",
    "print(\"Number of images for training:\", trX.shape[1])\n",
    "# dataset properties\n",
    "print(\"Values per Image testing:\", teX.shape[0])\n",
    "print(\"Number of images for testing:\", teX.shape[1])\n",
    "from matplotlib import pyplot as plt\n",
    "%matplotlib inline "
   ]
  },
  {
   "cell_type": "code",
   "execution_count": 5,
   "metadata": {},
   "outputs": [],
   "source": [
    "#subsample if necessary\n",
    "trainSampleSize = 46900;\n",
    "trXSub = trX[:,0:trainSampleSize]"
   ]
  },
  {
   "cell_type": "code",
   "execution_count": 6,
   "metadata": {},
   "outputs": [],
   "source": [
    "# importlib.reload(pyb) # For some reason, this appears not to be working"
   ]
  },
  {
   "cell_type": "code",
   "execution_count": 7,
   "metadata": {},
   "outputs": [
    {
     "name": "stdout",
     "output_type": "stream",
     "text": [
      "Conv In Depth: 1 In Height: 28 In Width: 28 Out Depth: 16 Out Height: 28 Out Width: 28\n",
      "Maxp In Depth: 16 In Height: 28 In Width: 28 Out Depth: 16 Out Height: 14 Out Width: 14\n",
      "Conv In Depth: 16 In Height: 14 In Width: 14 Out Depth: 4 Out Height: 14 Out Width: 14\n",
      "Maxp In Depth: 4 In Height: 14 In Width: 14 Out Depth: 4 Out Height: 7 Out Width: 7\n",
      "Tran In Depth: 4 In Height: 7 In Width: 7 Out Depth: 16 Out Height: 14 Out Width: 14\n",
      "Tran In Depth: 16 In Height: 14 In Width: 14 Out Depth: 1 Out Height: 28 Out Width: 28\n"
     ]
    }
   ],
   "source": [
    "deepAE = pyb.AutoEncoderExample6(28,28,1)\n"
   ]
  },
  {
   "cell_type": "code",
   "execution_count": 8,
   "metadata": {},
   "outputs": [
    {
     "name": "stdout",
     "output_type": "stream",
     "text": [
      "Loss of a given sample at epoch: 0\n",
      "0.00754249\n",
      "Loss of a given sample at epoch: 1\n",
      "0.00503982\n",
      "Loss of a given sample at epoch: 2\n",
      "0.00366661\n",
      "Loss of a given sample at epoch: 3\n",
      "0.00384676\n",
      "Loss of a given sample at epoch: 4\n",
      "0.00686421\n",
      "Loss of a given sample at epoch: 5\n",
      "0.00319163\n",
      "Loss of a given sample at epoch: 6\n",
      "0.00546313\n",
      "Loss of a given sample at epoch: 7\n",
      "0.00903001\n",
      "Loss of a given sample at epoch: 8\n",
      "0.00884741\n",
      "Loss of a given sample at epoch: 9\n",
      "0.000629218\n",
      "Loss of a given sample at epoch: 10\n",
      "0.00227594\n",
      "Loss of a given sample at epoch: 11\n",
      "0.00380691\n",
      "Loss of a given sample at epoch: 12\n",
      "0.0048959\n",
      "Loss of a given sample at epoch: 13\n",
      "0.00248684\n",
      "Loss of a given sample at epoch: 14\n",
      "0.00755381\n"
     ]
    }
   ],
   "source": [
    "# train and test (prints some result and returns test results)\n",
    "deepAE.Train(trXSub,trXSub,0.0005,15)"
   ]
  },
  {
   "cell_type": "code",
   "execution_count": 20,
   "metadata": {},
   "outputs": [
    {
     "name": "stdout",
     "output_type": "stream",
     "text": [
      "testing:\n",
      "784rows\n"
     ]
    },
    {
     "data": {
      "image/png": "[encoded data removed]",
      "text/plain": [
       "<Figure size 432x288 with 1 Axes>"
      ]
     },
     "metadata": {
      "needs_background": "light"
     },
     "output_type": "display_data"
    },
    {
     "data": {
      "image/png": "[encoded data removed]",
      "text/plain": [
       "<Figure size 432x288 with 1 Axes>"
      ]
     },
     "metadata": {
      "needs_background": "light"
     },
     "output_type": "display_data"
    }
   ],
   "source": [
    "sampleNum = 11\n",
    "deepAEOut = deepAE.Test(teX[:,sampleNum])\n",
    "plt.title(\"test input\")\n",
    "plt.imshow(np.reshape(teX[:,sampleNum],(28,28)), interpolation='nearest', cmap='gray')\n",
    "plt.show()\n",
    "plt.title(\"test output\")\n",
    "plt.imshow(np.reshape(deepAEOut,(28,28)), interpolation='nearest', cmap='gray')\n",
    "plt.show()"
   ]
  },
  {
   "cell_type": "code",
   "execution_count": null,
   "metadata": {},
   "outputs": [],
   "source": [
    "deepAEOut"
   ]
  }
 ],
 "metadata": {
  "kernelspec": {
   "display_name": "Python 3",
   "language": "python",
   "name": "python3"
  },
  "language_info": {
   "codemirror_mode": {
    "name": "ipython",
    "version": 3
   },
   "file_extension": ".py",
   "mimetype": "text/x-python",
   "name": "python",
   "nbconvert_exporter": "python",
   "pygments_lexer": "ipython3",
   "version": "3.7.3"
  }
 },
 "nbformat": 4,
 "nbformat_minor": 2
}
